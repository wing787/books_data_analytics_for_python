{
 "cells": [
  {
   "cell_type": "markdown",
   "metadata": {},
   "source": [
    "### 5.1 スクレイピング"
   ]
  },
  {
   "cell_type": "markdown",
   "metadata": {},
   "source": [
    "### 5.1.3 Webページをダウンロード"
   ]
  },
  {
   "cell_type": "code",
   "execution_count": 1,
   "metadata": {},
   "outputs": [
    {
     "name": "stdout",
     "output_type": "stream",
     "text": [
      "<class 'requests.models.Response'>\n",
      "200\n"
     ]
    }
   ],
   "source": [
    "import requests\n",
    "\n",
    "\n",
    "r = requests.get('https://www.seshop.com/')  # URLにアクセス\n",
    "print(type(r))  # HTMLを表示\n",
    "print(r.status_code)  # ステータスコードを表示"
   ]
  },
  {
   "cell_type": "code",
   "execution_count": 2,
   "metadata": {},
   "outputs": [
    {
     "name": "stdout",
     "output_type": "stream",
     "text": [
      "<title>SEshop｜ 翔泳社の本・電子書籍通販サイト</title>\n",
      "<h2>書籍ランキング <span class=\"pull-right\"><a href=\"/ranking/1\"><span class=\"glyphicon glyphicon-chevron-right\"></span> もっと見る</a></span></h2>\n",
      "<h2>電子書籍ランキング<span class=\"pull-right\"><a href=\"/ranking/327/\"><span class=\"glyphicon glyphicon-chevron-right\"></span> もっと見る</a></span></h2>\n",
      "<h2>予約ランキング</h2>\n",
      "<h2>新刊案内</h2>\n",
      "<h2>SEshop限定　紙書籍と電子書籍のセット商品</h2>\n",
      "<h2>申し込み受付中のセミナー</h2>\n",
      "<h2>商品カテゴリー</h2>\n",
      "<h2>人気商品ランキング</h2>\n",
      "<h2>キャンペーン・特集</h2>\n"
     ]
    }
   ],
   "source": [
    "text = r.text   # HTMLのソースコードを取得する\n",
    "for line in text.split('\\n'):\n",
    "    if '<title>' in line or '<h2>' in line:\n",
    "        print(line.strip())"
   ]
  },
  {
   "cell_type": "markdown",
   "metadata": {},
   "source": [
    "### 5.1.4 Webページから要素を抜き出す"
   ]
  },
  {
   "cell_type": "code",
   "execution_count": 3,
   "metadata": {},
   "outputs": [
    {
     "name": "stdout",
     "output_type": "stream",
     "text": [
      "<title>SEshop｜ 翔泳社の本・電子書籍通販サイト</title>\n",
      "<h2>書籍ランキング <span class=\"pull-right\"><a href=\"/ranking/1\"><span class=\"glyphicon glyphicon-chevron-right\"></span> もっと見る</a></span></h2>\n",
      "/ranking/1\n"
     ]
    }
   ],
   "source": [
    "from bs4 import BeautifulSoup\n",
    "\n",
    "# HTMLを解析したBeautifulSoupオブジェクトを生成\n",
    "soup = BeautifulSoup(text, 'html.parser')\n",
    "print(soup.title)  # <title> タグの情報を取得\n",
    "print(soup.h2)  # <h2> タグの情報を取得\n",
    "# h2タグの中のaタグのhref属性\n",
    "print(soup.h2.a['href'])"
   ]
  },
  {
   "cell_type": "code",
   "execution_count": 4,
   "metadata": {},
   "outputs": [
    {
     "name": "stdout",
     "output_type": "stream",
     "text": [
      "aタグの数: 253\n",
      "タイトル:  ヘルプ\n",
      "リンク: /help\n",
      "タイトル:  法人のお客様へ\n",
      "リンク: /campaign/corp\n",
      "タイトル:  新規会員登録\n",
      "リンク: https://www.seshop.com/regist/\n",
      "タイトル:  ログイン\n",
      "リンク: #modalLogin\n",
      "タイトル: \n",
      "リンク: /\n"
     ]
    }
   ],
   "source": [
    "atags = soup.find_all('a')  # すべてのaタグを取得\n",
    "print(f\"aタグの数: {len(atags)}\")  # aタグの数を取得\n",
    "for atag in atags[:5]:\n",
    "    print(f\"タイトル: {atag.text}\")  # aタグのテキストを取得\n",
    "    print(f\"リンク: {atag['href']}\")  # aタグのリンクを取得"
   ]
  },
  {
   "cell_type": "markdown",
   "metadata": {},
   "source": [
    "### 5.1.5 書籍の一覧を抜き出す"
   ]
  },
  {
   "cell_type": "code",
   "execution_count": 5,
   "metadata": {},
   "outputs": [],
   "source": [
    "from datetime import datetime\n",
    "\n",
    "\n",
    "r = requests.get('https://www.seshop.com/product/616')\n",
    "soup = BeautifulSoup(r.text, 'html.parser')\n",
    "\n",
    "books = []  # 各書籍の情報を格納するリスト\n",
    "\n",
    "# CSSセレクタで <div class=\"list\">の中の<div class=\"inner\">を取得\n",
    "divs = soup.select(\"div.list div.inner\")\n",
    "for div in divs:\n",
    "    img_url = div.find(\"img\")[\"src\"]\n",
    "    # 日付の文字列を取得\n",
    "    day = div.find(\"span\", class_=\"date\").text.strip()\n",
    "    day = day.replace(\"発売\", \"\")\n",
    "    # 日付をdatetimeに変換\n",
    "    published = datetime.strptime(day, \"%Y.%m.%d\")\n",
    "\n",
    "    div_txt = div.find(\"div\", class_=\"txt\")\n",
    "    a_tag = div_txt.find(\"a\")  # aタグを取得\n",
    "    title = a_tag.text.strip()  # 書籍タイトルを取得\n",
    "    url = a_tag[\"href\"]  # 書籍URLを取得\n",
    "\n",
    "    # 販売価格を取得\n",
    "    price_s = div_txt.find(\"span\", class_=\"sale-price\").parent.text\n",
    "    price_s = price_s.strip()\n",
    "    price_s = price_s.replace(\"円（税込）送料無料\", \"\")\n",
    "    price_s = price_s.replace(\",\", \"\")\n",
    "    price = int(price_s)\n",
    "\n",
    "    book = {\n",
    "        \"title\": title,\n",
    "        \"img_url\": img_url,\n",
    "        \"url\": url,\n",
    "        \"price\": price,\n",
    "        \"published\": published,\n",
    "    }\n",
    "    books.append(book)"
   ]
  },
  {
   "cell_type": "code",
   "execution_count": 7,
   "metadata": {},
   "outputs": [
    {
     "data": {
      "text/plain": [
       "[{'title': '現場で使える！NumPyデータ処理入門 第2版  機械学習・データサイエンスで役立つ高速処理手法',\n",
       "  'img_url': '/static/images/product/26383/L.png',\n",
       "  'url': '/product/detail/26383',\n",
       "  'price': 4400,\n",
       "  'published': datetime.datetime(2024, 8, 26, 0, 0)},\n",
       " {'title': '動かして学ぶ！Python Django開発入門 第3版',\n",
       "  'img_url': '/static/images/product/26360/L.png',\n",
       "  'url': '/product/detail/26360',\n",
       "  'price': 3960,\n",
       "  'published': datetime.datetime(2024, 8, 9, 0, 0)},\n",
       " {'title': 'いきなりプログラミング Python',\n",
       "  'img_url': '/static/images/product/26239/L.png',\n",
       "  'url': '/product/detail/26239',\n",
       "  'price': 2420,\n",
       "  'published': datetime.datetime(2024, 6, 25, 0, 0)}]"
      ]
     },
     "execution_count": 7,
     "metadata": {},
     "output_type": "execute_result"
    }
   ],
   "source": [
    "books[:3]"
   ]
  },
  {
   "cell_type": "code",
   "execution_count": 8,
   "metadata": {},
   "outputs": [
    {
     "data": {
      "text/html": [
       "<div>\n",
       "<style scoped>\n",
       "    .dataframe tbody tr th:only-of-type {\n",
       "        vertical-align: middle;\n",
       "    }\n",
       "\n",
       "    .dataframe tbody tr th {\n",
       "        vertical-align: top;\n",
       "    }\n",
       "\n",
       "    .dataframe thead th {\n",
       "        text-align: right;\n",
       "    }\n",
       "</style>\n",
       "<table border=\"1\" class=\"dataframe\">\n",
       "  <thead>\n",
       "    <tr style=\"text-align: right;\">\n",
       "      <th></th>\n",
       "      <th>title</th>\n",
       "      <th>img_url</th>\n",
       "      <th>url</th>\n",
       "      <th>price</th>\n",
       "      <th>published</th>\n",
       "    </tr>\n",
       "  </thead>\n",
       "  <tbody>\n",
       "    <tr>\n",
       "      <th>0</th>\n",
       "      <td>現場で使える！NumPyデータ処理入門 第2版  機械学習・データサイエンスで役立つ高速処理手法</td>\n",
       "      <td>/static/images/product/26383/L.png</td>\n",
       "      <td>/product/detail/26383</td>\n",
       "      <td>4400</td>\n",
       "      <td>2024-08-26</td>\n",
       "    </tr>\n",
       "    <tr>\n",
       "      <th>1</th>\n",
       "      <td>動かして学ぶ！Python Django開発入門 第3版</td>\n",
       "      <td>/static/images/product/26360/L.png</td>\n",
       "      <td>/product/detail/26360</td>\n",
       "      <td>3960</td>\n",
       "      <td>2024-08-09</td>\n",
       "    </tr>\n",
       "    <tr>\n",
       "      <th>2</th>\n",
       "      <td>いきなりプログラミング Python</td>\n",
       "      <td>/static/images/product/26239/L.png</td>\n",
       "      <td>/product/detail/26239</td>\n",
       "      <td>2420</td>\n",
       "      <td>2024-06-25</td>\n",
       "    </tr>\n",
       "    <tr>\n",
       "      <th>3</th>\n",
       "      <td>爆速Python</td>\n",
       "      <td>/static/images/product/26287/L.png</td>\n",
       "      <td>/product/detail/26287</td>\n",
       "      <td>3960</td>\n",
       "      <td>2024-06-24</td>\n",
       "    </tr>\n",
       "    <tr>\n",
       "      <th>4</th>\n",
       "      <td>【SEshop限定】Python1-2年生 プログラミング初心者向け応援セット◆「ヤギ博士＆...</td>\n",
       "      <td>/static/images/product/26392/L.png</td>\n",
       "      <td>/product/detail/26392</td>\n",
       "      <td>7018</td>\n",
       "      <td>2024-06-20</td>\n",
       "    </tr>\n",
       "  </tbody>\n",
       "</table>\n",
       "</div>"
      ],
      "text/plain": [
       "                                               title  \\\n",
       "0   現場で使える！NumPyデータ処理入門 第2版  機械学習・データサイエンスで役立つ高速処理手法   \n",
       "1                       動かして学ぶ！Python Django開発入門 第3版   \n",
       "2                                 いきなりプログラミング Python   \n",
       "3                                           爆速Python   \n",
       "4  【SEshop限定】Python1-2年生 プログラミング初心者向け応援セット◆「ヤギ博士＆...   \n",
       "\n",
       "                              img_url                    url  price  published  \n",
       "0  /static/images/product/26383/L.png  /product/detail/26383   4400 2024-08-26  \n",
       "1  /static/images/product/26360/L.png  /product/detail/26360   3960 2024-08-09  \n",
       "2  /static/images/product/26239/L.png  /product/detail/26239   2420 2024-06-25  \n",
       "3  /static/images/product/26287/L.png  /product/detail/26287   3960 2024-06-24  \n",
       "4  /static/images/product/26392/L.png  /product/detail/26392   7018 2024-06-20  "
      ]
     },
     "execution_count": 8,
     "metadata": {},
     "output_type": "execute_result"
    }
   ],
   "source": [
    "import pandas as pd\n",
    "\n",
    "\n",
    "df = pd.DataFrame(books)\n",
    "df.head()"
   ]
  }
 ],
 "metadata": {
  "kernelspec": {
   "display_name": "pydataenv",
   "language": "python",
   "name": "python3"
  },
  "language_info": {
   "codemirror_mode": {
    "name": "ipython",
    "version": 3
   },
   "file_extension": ".py",
   "mimetype": "text/x-python",
   "name": "python",
   "nbconvert_exporter": "python",
   "pygments_lexer": "ipython3",
   "version": "3.13.2"
  }
 },
 "nbformat": 4,
 "nbformat_minor": 2
}
